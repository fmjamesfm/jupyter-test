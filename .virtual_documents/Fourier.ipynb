


import numpy as np
import matplotlib.pyplot as plt 
from ipywidgets import interact, widgets
%matplotlib widget

x = np.linspace(-1, 1)

fig, (ax1, ax2)=plt.subplots(nrows=2, sharex='col')
N = 5

def change_coefficients(**kwargs):
    ax1.clear()
    ax2.clear()
    
    total = 0 
    
    for item, value in kwargs.items():
        term  = value * np.cos(int(item[1])*np.pi*x) * (item[0]=='a') + value * np.sin(int(item[1])*np.pi*x) * (item[0]=='b')
        total = total + term 
        
        ax1.plot(x, term, label=item)
    
    ax2.plot(x, total/np.max(total), 'k')
    
    ax2.grid()
    ax1.grid()
    ax1.set_title('Individual harmonics')
    ax2.set_title('Sum')
    

sa = [widgets.FloatSlider(description='a{}'.format(n), min=-1, max=1, step=0.1, value=0.5) for n in range(N+1)]
sb = [widgets.FloatSlider(description='b{}'.format(n), min=-1, max=1, step=0.1, value=0) for n in range(1,N+1)]

# Link sliders to function
out = widgets.interactive_output(change_coefficients, {**{f'a{i}': s for i, s in enumerate(sa)}, **{f'b{i+1}': s for i, s in enumerate(sb)}})

# Layout sliders in two rows
col1 = widgets.VBox(sa)
col2 = widgets.VBox(sb)
layout = widgets.HBox([col1, col2, out])

# Display everything
display(layout)









plt.close()
x = np.linspace(0,1, 200)
fig, (ax1,ax2) =plt.subplots(nrows=2, sharex='col')
ax1.set_ylim((-1.1,1.1))
ax2.set_ylim((-1.1,1.1))

ax1.set_title('')
ax1.set_axis_off()
ax2.set_axis_off()

def change_coefficients(m,n):

    ax1.clear()
    ax2.clear()
    
    f = np.sin(m*np.pi*x)
    g = np.sin(n*np.pi*x)
    fg = f*g
    
    ax1.plot(x, f, 'b', label=r'$f(x)=\sin(m\pi x)$')
    ax1.plot(x, g, 'r', label=r'$g(x)=\sin(n\pi x)$')

    ax2.plot(x, fg, 'k', label=r'$f(x)\cdot g(x)$')
    ax2.fill_between(x, fg, where=fg>0, color='b')
    ax2.fill_between(x, fg, where=fg<0, color='r')
    ax1.legend(loc='lower left')
    ax2.legend(loc='lower left')

    ax2.axhline(0, color='k')

    
interact(change_coefficients, m=FloatSlider(min=1, max=15, step=1, value=3, description='m'), 
         n=FloatSlider(min=1, max=15, step=1, value=1, description='n'),
        );
















import pandas as pd
from IPython.display import display, HTML
plt.close()
x = np.linspace(-np.pi, np.pi, 500)

N = 10 # number of coefficients to extract 

# f(x)
f = x**2 # x^2 isn't periodic, but it's even! By carrying out the integration, we will construct a periodic function with period 2*pi, 
         # with the same shape as x^2 within each interval!

fs = np.zeros_like(f) # initialise Fourier series 

a0 = np.trapz(f, x)/(2*np.pi)

fs = fs + a0 # add zeroth coefficient 
an = np.zeros(N)
bn = np.zeros(N)

for n in range(1,N+1):
    an[n-1] = 1/np.pi * np.trapz(f*np.sin(n*x), x)
    bn[n-1] =  1/np.pi * np.trapz(f*np.cos(n*x), x)
    fs = fs + an[n-1] * np.sin(n*x) + bn[n-1] * np.cos(n*x)
    
data = np.round(np.vstack((an, bn)), 2)

df = pd.DataFrame(data=data,   
              index=('a_n','b_n'),    
             columns=range(1,N+1))  

display(HTML(df.to_html()))

fig, ax = plt.subplots()
ax.plot(x,f, 'k', label='f(x)')
ax.plot(x,fs, 'r', label='sum of modes up to N')
ax.legend()
    

