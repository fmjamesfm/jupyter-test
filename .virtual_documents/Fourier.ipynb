


import numpy as np
import matplotlib.pyplot as plt 
from ipywidgets import interact, widgets
%matplotlib inline

x = np.linspace(-2, 2, 200)

N = 5 # maximum coefficient n

def change_coefficients(**kwargs):
    fig, (ax1, ax2)=plt.subplots(nrows=2, sharex='col')

    total = 0 
    
    for item, value in kwargs.items():
        term  = value * np.cos(int(item[1])*np.pi*x) * (item[0]=='a') + value * np.sin(int(item[1])*np.pi*x) * (item[0]=='b')
        total = total + term 
        
        ax1.plot(x, term, label=item)
    
    ax2.plot(x, total, 'k')
    
    ax2.grid()
    ax1.grid()
    ax1.set_title('Individual harmonics')
    ax2.set_title('Sum')
    plt.show()
    

sa = [widgets.FloatSlider(description='a{}'.format(n), min=-1, max=1, step=0.1, value=0.5) for n in range(N+1)]
sb = [widgets.FloatSlider(description='b{}'.format(n), min=-1, max=1, step=0.1, value=0) for n in range(1,N+1)]

# Link sliders to function
out = widgets.interactive_output(change_coefficients, {**{f'a{i}': s for i, s in enumerate(sa)}, **{f'b{i+1}': s for i, s in enumerate(sb)}})

# Layout sliders in two rows
col1 = widgets.VBox(sa)
col2 = widgets.VBox(sb)
inputlayout = widgets.HBox([col1, col2])
layout = widgets.VBox([inputlayout, out])

# Display everything
display(layout)






import numpy as np
import matplotlib.pyplot as plt

# your code here









x = np.linspace(0,1, 200)

def change_coefficients(m,n):

    fig, (ax1,ax2) =plt.subplots(nrows=2, sharex='col')
    ax1.set_ylim((-1.1,1.1))
    ax2.set_ylim((-1.1,1.1))
    
    ax1.set_title('')
    ax1.set_axis_off()
    ax2.set_axis_off()
    
    f = np.sin(m*np.pi*x)
    g = np.sin(n*np.pi*x)
    fg = f*g
    
    ax1.plot(x, f, 'b', label=r'$f(x)=\sin(m\pi x)$')
    ax1.plot(x, g, 'r', label=r'$g(x)=\sin(n\pi x)$')

    ax2.plot(x, fg, 'k', label=r'$f(x)\cdot g(x)$')
    ax2.fill_between(x, fg, where=fg>0, color='b')
    ax2.fill_between(x, fg, where=fg<0, color='r')
    ax1.legend(loc='lower left')
    ax2.legend(loc='lower left')

    ax2.axhline(0, color='k')
    plt.show()

    
interact(change_coefficients, m=widgets.FloatSlider(min=1, max=15, step=1, value=3, description='m'), 
         n=widgets.FloatSlider(min=1, max=15, step=1, value=1, description='n'),
        );
















import pandas as pd
from IPython.display import display, HTML
plt.close()

x = np.linspace(-2, 2, 500)
ffull = x + 0.5 # the function f(x)
N = 20

lims = np.abs(x)<1 # define the interval [-pi, pi] for the Fourier series
xl = x[lims]
f = ffull[lims]  
# initialise coefficients
an = np.zeros(N)
bn = np.zeros(N)

# calculate coefficients an, bn
for n in range(N):
    an[n] = np.trapz(f*np.cos(np.pi*n*xl), xl)
    bn[n] =  np.trapz(f*np.sin(np.pi*n*xl), xl)
    
data = np.round(np.vstack((an, bn)), 2)
df = pd.DataFrame(data=data,   
              index=('a_n','b_n'),    
             columns=range(1,N+1))  

display(HTML(df.to_html()))


def update(Nlim):
    # N is the number of coefficients
    Nlim = int(Nlim)
    
    
    # zeroth coefficient (could also include cos(0) term below instead)
    
    
    fs = np.zeros_like(ffull) # initialise Fourier series 

    fs = fs + an[0]/2 # add zeroth term
    
    for n in range(1,Nlim):
        fs = fs + an[n] * np.cos(np.pi*n*x) + bn[n] * np.sin(np.pi*n*x)
        
    
    fig, ax = plt.subplots()
    ax.plot(x,ffull, 'b', label='f(x)')
    
    ax.plot(x,fs, 'r', label='F.Series $[-1,1]$')
    
    ax.set_title('')
    ax.set_axis_off()
    ax.set_axis_off()
    ax.legend()
    ax.grid()
    ax.axvline(1, color='k')
    ax.axvline(-1, color='k')
    ax.axhline(0, color='k')
    
    plt.show()
    

interact(update, Nlim=widgets.FloatSlider(min=1, max=20, step=1, value=5, dtype=int, description='N')
        );













