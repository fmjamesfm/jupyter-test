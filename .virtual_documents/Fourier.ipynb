


import numpy as np
import matplotlib.pyplot as plt 
from ipywidgets import interact, FloatSlider

x = np.linspace(-1, 1)

def change_coefficients(a1, a2, a3, a4, a5):

    fig, (ax1, ax2)=plt.subplots(nrows=2, sharex='col')
    
    t1 = a1*np.sin(np.pi*x)
    t2 = a2*np.sin(2*np.pi*x)
    t3 = a3*np.sin(3*np.pi*x)
    t4 = a4*np.sin(4*np.pi*x)
    t5 = a5*np.sin(5*np.pi*x)
   
    tot = t1+t2+t3+t4+t5

    ax1.plot(x, t1)
    ax1.plot(x, t2)
    ax1.plot(x, t3)
    ax1.plot(x, t4)
    ax1.plot(x, t5)
    ax2.plot(x, tot/5, 'k')
    ax2.grid()
    ax1.grid()
    ax2.set_ylim((-1,1))
    ax1.set_ylim((-1,1))
    ax1.set_title('Individual harmonics')
    ax2.set_title('Sum')
    
    
interact(change_coefficients, a1=FloatSlider(min=-1, max=1, step=0.05, value=0.8, description='A1'),
        a2=FloatSlider(min=-1, max=1, step=0.05, value=0.2, description='A2'),
        a3=FloatSlider(min=-1, max=1, step=0.05, value=0.3, description='A3'),
        a4=FloatSlider(min=-1, max=1, step=0.05, value=0.4, description='A4'),
         a5=FloatSlider(min=-1, max=1, step=0.05, value=0.2, description='A5')
        );









x = np.linspace(0,1, 200)
def change_coefficients(m,n):

    fig, (ax1,ax2) =plt.subplots(nrows=2, sharex='col')
    
    f = np.sin(m*np.pi*x)
    g = np.sin(n*np.pi*x)
    fg = f*g
    
    ax1.plot(x, f, 'b', label=r'$f(x)=\sin(m\pi x)$')
    ax1.plot(x, g, 'r', label=r'$g(x)=\sin(n\pi x)$')

    ax2.plot(x, fg, 'k', label=r'$f(x)\cdot g(x)$')
    ax2.fill_between(x, fg, where=fg>0, color='b')
    ax2.fill_between(x, fg, where=fg<0, color='r')
    ax1.legend(loc='lower left')
    ax1.set_ylim((-1.1,1.1))
    ax2.set_ylim((-1.1,1.1))
    
    ax1.set_title('')
    ax1.set_axis_off()
    ax2.set_axis_off()
    ax2.legend(loc='lower left')
    ax2.axhline(0, color='k')
interact(change_coefficients, m=FloatSlider(min=1, max=15, step=1, value=3, description='m'), 
         n=FloatSlider(min=1, max=15, step=1, value=1, description='n'),
        );
















import pandas as pd
from IPython.display import display, HTML


x = np.linspace(-np.pi, np.pi, 500)

N = 10 # number of coefficients to extract 

# f(x)
f = x**2 # x^2 isn't periodic, but it's even! By carrying out the integration, we will construct a periodic function with period 2*pi, 
         # with the same shape as x^2 within each interval!

fs = np.zeros_like(f) # initialise Fourier series 

a0 = np.trapz(f, x)/(2*L)

fs = fs + a0 # add zeroth coefficient 
an = np.zeros(N)
bn = np.zeros(N)

for n in range(1,N+1):
    an[n-1] = 1/np.pi * np.trapz(f*np.sin(n*x), x)
    bn[n-1] =  1/np.pi * np.trapz(f*np.cos(n*x), x)
    fs = fs + an[n-1] * np.sin(n*x) + bn[n-1] * np.cos(n*x)
data = np.round(np.vstack((an, bn)), 2)

df = pd.DataFrame(data=data,   
              index=('a_n','b_n'),    
             columns=range(1,N+1))  

display(HTML(df.to_html()))

plt.plot(x,f, 'k')
plt.plot(x,fs, 'r')

    

