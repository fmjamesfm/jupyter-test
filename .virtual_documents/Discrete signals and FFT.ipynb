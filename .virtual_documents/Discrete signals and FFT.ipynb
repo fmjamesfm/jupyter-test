


import numpy as np
import matplotlib.pyplot as plt 
from matplotlib.gridspec import GridSpec

N = 12 # number of samples 
k = np.arange(0,N) # k from 0 to N-1

s = np.cos(2*np.pi*k/N) # the signal s[k]; one cosine is used here, with some added noise. Try inputting different functions of k and observe the result  

scos = np.zeros(N)
ssin = np.zeros(N)

an = np.zeros(N)
bn = np.zeros(N)

for n in range(N):
    # extract coefficients (the DFT)
    an[n] = 1/N * np.sum(s*np.cos(2*np.pi*n*k/N))
    bn[n] = 1/N * np.sum(s*np.sin(2*np.pi*n*k/N))
    
    # reconstruct the signal from its (discrete) Fourier series
    scos = scos + an[n]*np.cos(2*np.pi*n*k/N)
    ssin= ssin + bn[n]*np.sin(2*np.pi*n*k/N)
    
sr = scos+ssin # total reconstructed signal

fig = plt.figure(figsize=(10, 6))
gs = GridSpec(2, 2, width_ratios=[1, 1]) 

ax1 = fig.add_subplot(gs[:,0])
ax1.plot(s, 'k')
ax1.plot(sr, 'r.')
ax1.set_xticks(k)

ax2 = fig.add_subplot(gs[0,1])
ax2.plot(an, 'b.')
ax2.axhline(0, color='k')
ax2.axvline(N/2, color='k')
ax2.set_title('Cosine coefficients $a_n$')
ax2.set_xlabel('n')
ax3 = fig.add_subplot(gs[1,1], sharex=ax2)
ax3.plot(bn, 'r.')
ax3.axhline(0, color='k')
ax3.axvline(N/2, color='k')
ax3.set_title('Sine coefficients $b_n$')
ax3.set_xlabel('n')
ax3.set_xticks(k)

ax3.grid()
ax2.grid()
fig.tight_layout()
plt.show()

#ax2.plot(np.fft.fft(sk), 'r')




