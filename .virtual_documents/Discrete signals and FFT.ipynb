


import numpy as np
import matplotlib.pyplot as plt 
from matplotlib.gridspec import GridSpec

N = 12 # number of samples 
k = np.arange(0,N) # k from 0 to N-1

s = np.cos(2*np.pi*k/N) # the signal s[k]; one cosine is used here, with some added noise. 
# here you should try to input a signal whose frequency does not align exactly with the frequency bins of the DFT and see what bins "light up"

scos = np.zeros(N)
ssin = np.zeros(N)

an = np.zeros(N)
bn = np.zeros(N)

for n in range(N):
    # extract coefficients (the DFT)
    an[n] = 1/N * np.sum(s*np.cos(2*np.pi*n*k/N))
    bn[n] = 1/N * np.sum(s*np.sin(2*np.pi*n*k/N))
    
    # reconstruct the signal from its (discrete) Fourier series
    scos = scos + an[n]*np.cos(2*np.pi*n*k/N)
    ssin= ssin + bn[n]*np.sin(2*np.pi*n*k/N)
    
sr = scos+ssin # total reconstructed signal

fig = plt.figure(figsize=(10, 6))
gs = GridSpec(2, 2, width_ratios=[1, 1]) 

ax1 = fig.add_subplot(gs[:,0])
ax1.plot(s, 'k')
ax1.plot(sr, 'r.')
ax1.set_xticks(k)

ax2 = fig.add_subplot(gs[0,1])
ax2.plot(an, 'b.')
ax2.axhline(0, color='k')
ax2.axvline(N/2, color='k')
ax2.set_title('Cosine coefficients $a_n$')
ax2.set_xlabel('n')
ax3 = fig.add_subplot(gs[1,1], sharex=ax2)
ax3.plot(bn, 'r.')
ax3.axhline(0, color='k')
ax3.axvline(N/2, color='k')
ax3.set_title('Sine coefficients $b_n$')
ax3.set_xlabel('n')
ax3.set_xticks(k)

ax3.grid()
ax2.grid()
fig.tight_layout()
plt.show()

#ax2.plot(np.fft.fft(sk), 'r')















### import numpy as np
import matplotlib.pyplot as plt

N = 256
k = np.arange(N)
fs = 100 # sample rate in Hz
deltat = 1/fs # sample interval
t = np.arange(0, deltat*N, deltat) # assuming length of 1 second

w0 = 2*np.pi # sweep start
w1 = 2*np.pi * 10  # sweep end

w = w0 + (w1-w0) * k / (N-1)
s = np.cos(w0 * t)

plt.plot(t, w/2/np.pi)



