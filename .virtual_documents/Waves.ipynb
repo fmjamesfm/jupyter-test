


# required imports
import numpy as np
import matplotlib.pyplot as plt
import matplotlib.animation as animation
import scipy.signal 
plt.rcParams["animation.html"] = "jshtml"


N = 500 # number of discrete points along the string 
L = 1

x = np.linspace(0,L, N) # x_i coordinates
dx = x[1]-x[0] # spatial step


# initial conditions
width = 50 # factor for the width of the initial displacement
u0 = 0.5*np.exp(-0.5*((x-L/2)*width)**2) # initial displacement

plt.plot(u0)

du0 = np.zeros(u0.shape) # initial velocity (du=0, the string starts stationary)


c = 1 # speed of wave propagation (distance per unit time)
dt = 0.9 * dx / c # time step (small enough not to cause problems, but you might want to see what happens if it's too big...)
r = 0.1 # damping coefficient: increase this to see what happens


# heat equation constants

D = 1 # diffusion coefficient

# animation setup 
duration = 3 
fps = 30 # frames per second
steps_per_frame = int((1/dt)/fps) # steps per second
frames = fps * duration 

def iterate_wave(u, du):
    ddx = np.zeros_like(u)
    ddx[1:-1] = (u[0:-2] + u[2:] - 2*u[1:-1]) / dx**2
    ddu = c**2* ddx - du*r # this is the acceleration. The term du*r represents damping (a force in the opposite direction to the local velocity du)  
    du_next = du + dt*(c**2*ddx - du*r)
    u_next = u + dt*du_next
    return u_next, du_next
    
def iterate_heat(u, du):
    ddx = np.zeros_like(u)
    ddx[1:-1] = (u[0:-2] + u[2:] - 2*u[1:-1]) / dx**2
    
    du_next = du + dt*(- D*du)
    u_next = u + dt*du_next
    
    return u_next, du_next

state1 = [u0.copy(), du0.copy()]
state2 = [u0.copy(), du0.copy()]

def update(frame):
    if frame==0:
        line.set_ydata(state1[0])
        line.set_ydata(state2[0])
        return line1, line2
        
    for i in range(steps_per_frame):
        # multiple simulation steps per animation frame    
        state1[0], state1[1] = iterate_wave(state1[0], state1[1])
        state2[0], state2[1] = iterate_heat(state2[0], state2[1])
        
    line1.set_ydata(state1[0])
    line2.set_ydata(state2[0])
        
    return line1, line2
    
# Set up figure
fig, (ax1, ax2) = plt.subplots(nrows=2)
ax1.set_ylim([-0.5,0.5])
ax2.set_ylim([-0.5,0.5])

line1, = ax.plot(x, u0, 'k')
line2, = ax.plot(x, u0, 'k')

ax.set_axis_off()
plt.close()
# Create animation
animation.FuncAnimation(fig, update, frames=frames, interval=20)





N = 500 # number of discrete points along the string 
L = 1 
x = np.linspace(0,L, N) # x_i coordinates
dx = x[1]-x[0] # spatial step

# initial conditions
u0 = np.zeros_like(x) # initial values for the string displacement
du0 = np.zeros_like(x) 

c = 1 # speed of wave propagation (distance per unit time)
dt = 0.9 * dx / c # time step (small enough not to cause problems, but you might want to see what happens if it's too big...)
r = 0.01 # damping coefficient: increase this to see what happens

# mode frequencies are given by: omega = n \pi / L


n = 2 # mode number to excite
omega = n*np.pi / L # frequency of external force (matching resonant frequency)
f_ext_pos = np.argmin(np.abs(x-L/(2*n))) # external point force location
f_ext = np.zeros_like(x)+0j # external force initial value
f_ext[f_ext_pos] = 1 # external force amplitude 

# animation setup 
duration = 5
fps = 30 # frames per second
steps_per_frame = int((1/dt)/fps) # steps per second
frames = fps * duration 

def iterate(u, du, f):
    ddx = np.zeros_like(u)
    ddx[1:-1] = (u[0:-2] + u[2:] - 2*u[1:-1]) / dx**2
    ddu = (c**2*ddx  - du*r + f)
    du_next = du + dt*ddu
    u_next = u + dt*du_next
    return u_next, du_next

state = [u0.copy(), du0.copy(), f_ext.copy()]

def update(frame):
    
    if frame==0:
        line.set_ydata(state[0])
        point.set_ydata((state[0][f_ext_pos],))
        return line, point
    
    for i in range(steps_per_frame):
        # multiple steps per animation frame    
        state[0], state[1] = iterate(state[0], state[1], np.real(state[2]))
        state[2] = state[2]*np.exp(1j*omega*dt)
        
    line.set_ydata(state[0])
    point.set_ydata((state[0][f_ext_pos],))

    return line, point



# Set up figure
fig, ax = plt.subplots()
ax.set_ylim([-0.01,0.01])
line, = ax.plot(x, u0, 'k')
point, = ax.plot(x[f_ext_pos], u0[f_ext_pos], 'ko')
ax.set_axis_off()

plt.close()


# Create animation
animation.FuncAnimation(fig, update, frames=frames, interval=20)











