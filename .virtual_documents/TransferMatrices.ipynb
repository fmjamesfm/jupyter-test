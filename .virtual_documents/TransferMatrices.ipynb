


import numpy as np
import matplotlib.pyplot as plt 

fig, ax = plt.subplots()

omega = 2*np.pi * 200
rho0 = 1.213
c0 = 343

rho1 = 2 
c1 = 300


k0 = omega/c0
k1 = omega/c1
theta0 = np.pi/2

kx1 = np.sqrt(k1**2 - kx0**2)

z0 = rho0 * c0
z1 = rho1 * c1 


L = 1

ax.axvline(0, color='k')
ax.axvline(L, color='k')
ax.set_xlim(-L, 2*L)
ax.set_ylim(-1, 1)

ax.quiver(-L,-0.5,L,0.5, angles='xy', scale=1, scale_units='xy')
ax.quiver(0,0,-L,0.5, angles='xy', scale=1, scale_units='xy')

ax.quiver(-L,-0.5,L,0.5, angles='xy', scale=1, scale_units='xy')
ax.quiver(0,0,-L,0.5, angles='xy', scale=1, scale_units='xy')

plt.show()


