


# first we import required libraries
import numpy as np
import matplotlib.pyplot as plt
%matplotlib widget

def format_axis(ax, lim=1):
    ax.set_xlim(-(lim+0.1), lim+0.1)
    ax.set_ylim(-(lim+0.1), lim+0.1)
    ax.set_yticks(np.arange(-lim,lim+0.1,0.1))
    ax.set_xticks(np.arange(-lim,lim+0.1,0.1))
    ax.set_xticklabels('')
    ax.set_yticklabels('')
    ax.set_aspect('equal')
    ax.spines['left'].set_position('zero')
    ax.spines['bottom'].set_position('zero')
    ax.spines['right'].set_color('none')
    ax.spines['top'].set_color('none')

    ax.grid(True, linewidth=0.25)
    ax.set_xlabel('Re(A)', loc='right')
    ax.set_ylabel('Im(A)', loc='top')

A = 0.5 + 1j

fig, ax = plt.subplots()

ax.set_title(f"A in the complex plane")
ax.quiver(0,0,np.real(A),np.imag(A),angles='xy', scale_units='xy', scale=1, color='k', label='A=({:.1f},{:.1f})'.format(np.real(A), np.imag(A)))
ax.quiver(0,0,np.real(A),0,angles='xy', scale_units='xy', scale=1, color='r', label='Re(A)')
ax.quiver(0,0,0,np.imag(A),angles='xy', scale_units='xy', scale=1, color='b', label='Im(A)')

ax.plot([0, np.real(A)], [np.imag(A), np.imag(A)], color='k', linestyle=':')
ax.plot([np.real(A), np.real(A)], [0, np.imag(A)], color='k', linestyle=':')
format_axis(ax)
ax.legend()
plt.show()





from ipywidgets import interact, FloatSlider

fig, ax = plt.subplots()
ax.set_title(f"A in the complex plane")    
    
def rotate(a, b):
    A = a + 1j*b
    ax.clear()
    ax.quiver(0,0,np.real(A),np.imag(A),angles='xy', scale_units='xy', scale=1, color='k', label='A')
    ax.quiver(0,0,np.real(A),0,angles='xy', scale_units='xy', scale=1, color='r', label='Re(A)')
    ax.quiver(0,0,0,np.imag(A),angles='xy', scale_units='xy', scale=1, color='b', label='Im(A)')
    ax.plot([0, np.real(A)], [np.imag(A), np.imag(A)], color='k', linestyle=':')
    ax.plot([np.real(A), np.real(A)], [0, np.imag(A)], color='k', linestyle=':')

    # show angle theta
    theta =np.arctan2(np.imag(A),np.real(A))
    if theta < 0:
        theta = 2*np.pi+theta

    thetaf =  np.linspace(0,1)*theta
    ax.plot(0.1*np.cos(thetaf), 0.1*np.sin(thetaf), color='k')
    
    ax.legend()
    format_axis(ax)

    
interact(rotate, a=FloatSlider(min=-1, max=1, step=0.05, value=0.2, description='a'),
        b=FloatSlider(min=-1, max=1, step=0.05, value=0.5, description='b'));













def rotate(ang):
    A = np.exp(1j*ang/180*np.pi)
    
    fig, ax = plt.subplots()

    ax.set_title(f"A in the complex plane")
    ax.quiver(0,0,np.real(A),np.imag(A),angles='xy', scale_units='xy', scale=1, color='k', label='A')
    ax.quiver(0,0,np.real(A),0,angles='xy', scale_units='xy', scale=1, color='r', label='Re(A)')
    ax.quiver(0,0,0,np.imag(A),angles='xy', scale_units='xy', scale=1, color='b', label='Im(A)')
    ax.plot([0, np.real(A)], [np.imag(A), np.imag(A)], color='k', linestyle=':')
    ax.plot([np.real(A), np.real(A)], [0, np.imag(A)], color='k', linestyle=':')
    theta = np.linspace(0,ang/180*np.pi, 40)
    ax.plot(np.cos(theta), np.sin(theta), 'k', linewidth=0.5)
    ax.legend()
    format_axis(ax, lim=1.5)
    plt.show()
    
interact(rotate, ang=FloatSlider(min=0, max=360, step=1, value=0, description='Angle theta (°)'));









def rotate(anga, angb):
    a = np.exp(1j*anga/180*np.pi)
    b = np.exp(1j*angb/180*np.pi)
    c = a+b
    
    fig, ax = plt.subplots()
    ax.set_title(f"Complex")
    
    ax.quiver(0,0,np.real(a),np.imag(a),angles='xy', scale_units='xy', scale=1, color='r', label='A')
    ax.quiver(np.real(a),np.imag(a),np.real(b),np.imag(b),angles='xy', scale_units='xy', scale=1, color='b', alpha=0.1)
    
    ax.quiver(0,0,np.real(b),np.imag(b),angles='xy', scale_units='xy', scale=1, color='b', label='B')
    ax.quiver(np.real(b),np.imag(b),np.real(a),np.imag(a),angles='xy', scale_units='xy', scale=1, color='r', alpha=0.1)
    
    ax.quiver(0,0,np.real(c),np.imag(c),angles='xy', scale_units='xy', scale=1, color='k', label='A+B')
    ax.legend()
    format_axis(ax, lim=2)
    
    
    plt.show()
    
interact(rotate, anga=FloatSlider(min=0, max=360, step=1, value=0, description='Angle A (°)'),
        angb=FloatSlider(min=0, max=360, step=1, value=180, description='Angle B (°)'));








angle_range = np.linspace(0,1,30)

def rotate(anga, angb):
    a = np.exp(1j*anga/180*np.pi)
    b = np.exp(1j*angb/180*np.pi)
    c = a*b
    
    fig, ax = plt.subplots()
    ax.set_xlim(-2.1, 2.1)
    ax.set_ylim(-2.1, 2.1)
    ax.set_aspect('equal')
    ax.grid(True)
    ax.set_title(f"Complex")
    
    ax.quiver(0,0,np.real(a),np.imag(a),angles='xy', scale_units='xy', scale=1, color='r', label='A')
    
    ax.quiver(0,0,np.real(b),np.imag(b),angles='xy', scale_units='xy', scale=1, color='b', label='B')
    
    ax.quiver(0,0,np.real(c),np.imag(c),angles='xy', scale_units='xy', scale=1, color='k', label=r'A$\cdot$B')
    
    # draw arc
    
    theta = anga/180*np.pi*angle_range
    phi = angb/180*np.pi*angle_range
        
    ax.plot(0.5*np.cos(theta), 0.5*np.sin(theta), 'r')
    ax.plot(0.25*np.cos(phi), 0.25*np.sin(phi), 'b')
    
    ax.plot(np.cos(theta+phi), np.sin(theta+phi), 'k')
    
    
    ax.legend()
    format_axis(ax)
    
    plt.show()
    
interact(rotate, anga=FloatSlider(min=0, max=360, step=1, value=15, description='Angle A (°)'),
        angb=FloatSlider(min=0, max=360, step=1, value=30, description='Angle B (°)'));





def rotate(time, freq):
    t = np.linspace(0, time, 80)
    
    p = np.exp(1j*2*np.pi*freq*t)
    fig, (ax1,ax2) = plt.subplots(ncols=2, sharey='row')

    
    ax1.quiver(0,0,np.real(p[-1]),np.imag(p[-1]),angles='xy', scale_units='xy', scale=1, color='k', label='A')
    ax1.plot([0, np.real(p[-1])], [np.imag(p[-1]), np.imag(p[-1])], color='k', linestyle=':')
    
    ax2.plot(t, np.real(p), 'k')
    ax2.plot(time, np.real(p[-1]), 'ko')
    format_axis(ax1)
    format_axis(ax2)
    ax1.plot()
    
    ax2.set_aspect('auto')
    
    ax2.set_xlim(0,1.1)
    
    ax2.spines['left'].set_position('zero')
    
    
    ax1.set_ylabel('Im(p)', loc='top')
    ax1.set_xlabel('Re(p)', loc='right')
    
    ax2.set_ylabel('Im(p)', loc='top')
    ax2.set_xlabel('Time', loc='right')
    
    plt.show()

interact(rotate, time=FloatSlider(min=0, max=1, step=0.05, value=0, description='Time'),
                 freq=FloatSlider(min=0, max=4, step=1, value=np.pi, description='Frequency'));









