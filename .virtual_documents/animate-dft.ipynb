











import numpy as np
import matplotlib.pyplot as plt
from ipywidgets import interact, FloatSlider

N = 12
k = np.arange(N)

def update(n):
    
    f = np.cos(2* n * np.pi * k / N)
    g = np.sin(2* n * np.pi * k / N)

    fig, (ax1,ax2) = plt.subplots(nrows=2, sharex='col')
    
    ax1.plot(k, f, 'ko')
    ax2.plot(k, g, 'ro')
    ax2.set_xticks(k)
    ax1.set_ylim([-1.1,1.1])
    ax2.set_ylim([-1.1,1.1])
    
    plt.show()
    
interact(update, n=FloatSlider(min=-N, max=N, step=1, value=0, description='n'));






