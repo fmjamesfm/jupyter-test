{
 "cells": [
  {
   "cell_type": "markdown",
   "id": "44860e6f-0dba-49c3-b57f-19b4597c1fb4",
   "metadata": {},
   "source": [
    "# "
   ]
  },
  {
   "cell_type": "code",
   "execution_count": null,
   "id": "45146eba-63aa-404c-8e69-e51a08719da9",
   "metadata": {},
   "outputs": [],
   "source": []
  },
  {
   "cell_type": "code",
   "execution_count": null,
   "id": "e7c7db5c-d35a-4fde-82d9-19114f731870",
   "metadata": {},
   "outputs": [],
   "source": []
  },
  {
   "cell_type": "markdown",
   "id": "e1033931-69d4-4457-ac5f-601db4e23d4b",
   "metadata": {},
   "source": [
    "## "
   ]
  },
  {
   "cell_type": "code",
   "execution_count": 1,
   "id": "0ca063a8-c930-4795-b9e8-3ceb70c3f0d5",
   "metadata": {},
   "outputs": [
    {
     "data": {
      "application/vnd.jupyter.widget-view+json": {
       "model_id": "1bc876ddc84c47d4ae9dc51ddbec125a",
       "version_major": 2,
       "version_minor": 0
      },
      "text/plain": [
       "interactive(children=(FloatSlider(value=0.0, description='n', max=12.0, min=-12.0, step=1.0), Output()), _dom_…"
      ]
     },
     "metadata": {},
     "output_type": "display_data"
    }
   ],
   "source": [
    "import numpy as np\n",
    "import matplotlib.pyplot as plt\n",
    "from ipywidgets import interact, FloatSlider\n",
    "\n",
    "N = 12\n",
    "k = np.arange(N)\n",
    "\n",
    "def update(n):\n",
    "    \n",
    "    f = np.cos(2* n * np.pi * k / N)\n",
    "    g = np.sin(2* n * np.pi * k / N)\n",
    "\n",
    "    fig, (ax1,ax2) = plt.subplots(nrows=2, sharex='col')\n",
    "    \n",
    "    ax1.plot(k, f, 'ko')\n",
    "    ax2.plot(k, g, 'ro')\n",
    "    ax2.set_xticks(k)\n",
    "    ax1.set_ylim([-1.1,1.1])\n",
    "    ax2.set_ylim([-1.1,1.1])\n",
    "    \n",
    "    plt.show()\n",
    "    \n",
    "interact(update, n=FloatSlider(min=-N, max=N, step=1, value=0, description='n'));\n",
    "\n",
    "\n"
   ]
  },
  {
   "cell_type": "code",
   "execution_count": null,
   "id": "bb7233a3-22f3-436b-995a-700bc0656b62",
   "metadata": {},
   "outputs": [],
   "source": []
  }
 ],
 "metadata": {
  "kernelspec": {
   "display_name": "Python 3 (ipykernel)",
   "language": "python",
   "name": "python3"
  },
  "language_info": {
   "codemirror_mode": {
    "name": "ipython",
    "version": 3
   },
   "file_extension": ".py",
   "mimetype": "text/x-python",
   "name": "python",
   "nbconvert_exporter": "python",
   "pygments_lexer": "ipython3",
   "version": "3.12.3"
  }
 },
 "nbformat": 4,
 "nbformat_minor": 5
}
