{
 "cells": [
  {
   "cell_type": "markdown",
   "id": "47c82802-3787-44f9-8751-33fba0be24d2",
   "metadata": {},
   "source": [
    "# Lecture 1\n",
    "\n",
    "## Complex quantities\n",
    "\n",
    "Let's start with a complex number $a=e^{i \\theta}$ and visually see that indeed:\n",
    "\n",
    "$e^{i \\theta} = \\cos(\\theta) + i \\sin(\\theta)$\n",
    "\n",
    "It helps to see this as a vector:\n",
    "\n",
    "$e^{i \\theta} = \\hat{\\imath} \\cos(\\theta) + \\hat{\\jmath} \\sin(\\theta) $\n",
    "\n",
    "When dealing with signals typically the real part is the physical quantity (e.g. pressure or displacement).\n"
   ]
  },
  {
   "cell_type": "code",
   "execution_count": 43,
   "id": "8bbc5cf1-0a66-44a5-8eff-b65a85d9a37c",
   "metadata": {},
   "outputs": [
    {
     "data": {
      "application/vnd.jupyter.widget-view+json": {
       "model_id": "3b4ed47eed9f4f658ca7d261ae839773",
       "version_major": 2,
       "version_minor": 0
      },
      "text/plain": [
       "interactive(children=(FloatSlider(value=0.0, description='Angle (°)', max=360.0, step=1.0), Output()), _dom_cl…"
      ]
     },
     "metadata": {},
     "output_type": "display_data"
    }
   ],
   "source": [
    "# first we import required libraries\n",
    "import numpy as np\n",
    "import matplotlib.pyplot as plt\n",
    "from ipywidgets import interact, FloatSlider\n",
    "\n",
    "a = 1 * np.exp(1j*np.pi)\n",
    "\n",
    "def rotate(ang):\n",
    "    a = np.exp(1j*ang/180*np.pi)\n",
    "    \n",
    "    fig, ax = plt.subplots()\n",
    "    ax.set_xlim(-1.1, 1.1)\n",
    "    ax.set_ylim(-1.1, 1.1)\n",
    "    ax.set_aspect('equal')\n",
    "    ax.grid(True)\n",
    "    ax.set_title(f\"Complex\")\n",
    "    ax.quiver(0,0,np.real(a),np.imag(a),angles='xy', scale_units='xy', scale=1, color='k', label='A')\n",
    "    ax.quiver(0,0,np.real(a),0,angles='xy', scale_units='xy', scale=1, color='r', label='Re(a)')\n",
    "    ax.quiver(0,0,0,np.imag(a),angles='xy', scale_units='xy', scale=1, color='b', label='Im(a)')\n",
    "    ax.plot([0, np.real(a)], [np.imag(a), np.imag(a)], color='k', linestyle=':')\n",
    "    ax.plot([np.real(a), np.real(a)], [0, np.imag(a)], color='k', linestyle=':')\n",
    "    ax.legend()\n",
    "    \n",
    "    plt.show()\n",
    "    \n",
    "interact(rotate, ang=FloatSlider(min=0, max=360, step=1, value=0, description='Angle (°)'));\n"
   ]
  },
  {
   "cell_type": "code",
   "execution_count": 2,
   "id": "73d98883-fa06-40d6-ac7c-9ce08b6f857a",
   "metadata": {},
   "outputs": [],
   "source": []
  },
  {
   "cell_type": "markdown",
   "id": "cab04519-f541-4f8c-8c7b-1f087f4805b9",
   "metadata": {},
   "source": [
    "## Summing signals\n",
    "\n",
    "When we add two signals represented as complex numbers, we are actually doing vector addition. \n",
    "\n",
    "If the vectors have the same length, their sum will be a vector twice the length if they point in the same direction, but will be zero length if they point in opposite directions.\n",
    "\n",
    "A trivial example are these complex numbers:\n",
    "\n",
    "$A=1$\n",
    "\n",
    "$B=-1$\n",
    "\n",
    "$A$ and $B$ are at 180 degrees from each other and their sum is zero $A+B=1-1=0$"
   ]
  },
  {
   "cell_type": "code",
   "execution_count": 45,
   "id": "753031e7-8fe0-4e04-8b55-2ef33ec0b570",
   "metadata": {},
   "outputs": [
    {
     "data": {
      "application/vnd.jupyter.widget-view+json": {
       "model_id": "e86d33ec1a4f451ea0222dabe94fc94d",
       "version_major": 2,
       "version_minor": 0
      },
      "text/plain": [
       "interactive(children=(FloatSlider(value=0.0, description='Angle A (°)', max=360.0, step=1.0), FloatSlider(valu…"
      ]
     },
     "metadata": {},
     "output_type": "display_data"
    }
   ],
   "source": [
    "\n",
    "def rotate(anga, angb):\n",
    "    a = np.exp(1j*anga/180*np.pi)\n",
    "    b = np.exp(1j*angb/180*np.pi)\n",
    "    c = a+b\n",
    "    \n",
    "    fig, ax = plt.subplots()\n",
    "    ax.set_xlim(-2.1, 2.1)\n",
    "    ax.set_ylim(-2.1, 2.1)\n",
    "    ax.set_aspect('equal')\n",
    "    ax.grid(True)\n",
    "    ax.set_title(f\"Complex\")\n",
    "    \n",
    "    ax.quiver(0,0,np.real(a),np.imag(a),angles='xy', scale_units='xy', scale=1, color='r', label='A')\n",
    "    ax.quiver(np.real(a),np.imag(a),np.real(b),np.imag(b),angles='xy', scale_units='xy', scale=1, color='b', alpha=0.1)\n",
    "    \n",
    "    ax.quiver(0,0,np.real(b),np.imag(b),angles='xy', scale_units='xy', scale=1, color='b', label='B')\n",
    "    ax.quiver(np.real(b),np.imag(b),np.real(a),np.imag(a),angles='xy', scale_units='xy', scale=1, color='r', alpha=0.1)\n",
    "    \n",
    "    ax.quiver(0,0,np.real(c),np.imag(c),angles='xy', scale_units='xy', scale=1, color='k', label='A+B')\n",
    "    ax.legend()\n",
    "    \n",
    "    plt.show()\n",
    "    \n",
    "interact(rotate, anga=FloatSlider(min=0, max=360, step=1, value=0, description='Angle A (°)'),\n",
    "        angb=FloatSlider(min=0, max=360, step=1, value=180, description='Angle B (°)'));\n"
   ]
  },
  {
   "cell_type": "markdown",
   "id": "c9e4f080-6134-4072-8ea4-7bad71828306",
   "metadata": {},
   "source": [
    "We know $|A|+|B|=1$, and by playing with the angles we can also verify that \n",
    "\n",
    "$|A+B|\\leq |A| + |B|$"
   ]
  },
  {
   "cell_type": "markdown",
   "id": "ebb7b55f-dd46-4073-9872-5ea6d34db373",
   "metadata": {},
   "source": [
    "# Multiplication as rotation\n",
    "\n",
    "Complex multiplication can be interpreted as rotating a number about the centre of the complex plane.\n",
    "\n",
    "For a plane wave, pressure is given by:\n",
    "\n",
    "$p(x,t) = A e^{i (\\omega t -kx)}$\n",
    "\n",
    "Here the phase angle is $\\theta=\\omega t-kx$.\n",
    "If we look at a fixed position like $x=0$, then $\\theta=\\omega t$ and phase angle is varying only with time (since frequency is given).\n",
    "\n",
    "Euler's equation in acoustics relates the gradient of pressure to particle velocity. \n",
    "\n",
    "$\\nabla p = \\frac{-i\\omega}{\\rho}\\cdot v$\n",
    "\n",
    "For our plane wave, the gradient of pressure (in the $x$ direction) is:\n",
    "\n",
    "$\\nabla p = \\frac{\\partial p}{\\partial x}= i k e^{i\\omega t}$\n",
    "\n",
    "Substituting into Euler's equation gives us\n",
    "\n",
    "$p=\\rho c \\cdot v$\n",
    "\n",
    "Pressure and velocity are related by a factor (the *characteristic impedance* $z=\\rho c$) which is a property of the medium (like air or some porous absorber) and can be complex. Often when modelling sound propagation in air, $\\rho$ and $c$ are purely real (the characteristic impedance of air is typically in the order of 400 Rayls).\n",
    "\n",
    "If this factor has an imaginary component, it implies a rotation, meaning pressure and velocity are not pointing in the same direction (and so are out of phase to some degree). This typically represents some form of damping within a medium."
   ]
  },
  {
   "cell_type": "code",
   "execution_count": null,
   "id": "ac3b91a2-70b0-4417-940b-97a37b5990ba",
   "metadata": {},
   "outputs": [],
   "source": []
  }
 ],
 "metadata": {
  "kernelspec": {
   "display_name": "Python 3 (ipykernel)",
   "language": "python",
   "name": "python3"
  },
  "language_info": {
   "codemirror_mode": {
    "name": "ipython",
    "version": 3
   },
   "file_extension": ".py",
   "mimetype": "text/x-python",
   "name": "python",
   "nbconvert_exporter": "python",
   "pygments_lexer": "ipython3",
   "version": "3.12.3"
  }
 },
 "nbformat": 4,
 "nbformat_minor": 5
}
