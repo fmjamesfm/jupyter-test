{
 "cells": [
  {
   "cell_type": "markdown",
   "id": "47c82802-3787-44f9-8751-33fba0be24d2",
   "metadata": {},
   "source": [
    "# Lecture 1\n",
    "\n",
    "## Complex quantities\n",
    "\n",
    "Let's start with a complex number $A$, with a real part $a$ and an imaginary part $b$:\n",
    "\n",
    "$A = a + ib$\n",
    "\n",
    "It helps to see $A$ as a point or vector in 2D space: the real part is the $x$ coordinate and the imaginary part the $y$ coordinate. \n",
    "\n",
    "Let's treat it as a vector then:\n",
    "\n",
    "$\\vec{A} =\\begin{pmatrix} a & b \\end{pmatrix}  $\n",
    "\n",
    "This vector is an arrow that points from the origin $(0, 0)$ to the point $(a, b)$. Let's plot a complex number this way, $A=0.5+1i$.\n",
    "\n"
   ]
  },
  {
   "cell_type": "code",
   "execution_count": 173,
   "id": "151003d3-1ad0-4544-8c73-0cc458f8df35",
   "metadata": {},
   "outputs": [
    {
     "data": {
      "text/plain": [
       "<matplotlib.legend.Legend at 0x21fc4b138f0>"
      ]
     },
     "execution_count": 173,
     "metadata": {},
     "output_type": "execute_result"
    },
    {
     "data": {
      "image/png": "[encoded data removed]",
      "text/plain": [
       "<Figure size 640x480 with 1 Axes>"
      ]
     },
     "metadata": {},
     "output_type": "display_data"
    }
   ],
   "source": [
    "# first we import required libraries\n",
    "import numpy as np\n",
    "import matplotlib.pyplot as plt\n",
    "from ipywidgets import interact, FloatSlider\n",
    "\n",
    "\n",
    "def format_axis(ax, lim=1):\n",
    "    ax.set_xlim(-(lim+0.1), lim+0.1)\n",
    "    ax.set_ylim(-(lim+0.1), lim+0.1)\n",
    "    ax.set_yticks(np.arange(-lim,lim+0.1,0.1))\n",
    "    ax.set_xticks(np.arange(-lim,lim+0.1,0.1))\n",
    "    \n",
    "    ax.set_xticklabels('')\n",
    "    ax.set_yticklabels('')\n",
    "    \n",
    "    ax.set_aspect('equal')\n",
    "    \n",
    "    ax.spines['left'].set_position('zero')\n",
    "    ax.spines['bottom'].set_position('zero')\n",
    "    ax.spines['right'].set_color('none')\n",
    "    ax.spines['top'].set_color('none')\n",
    "\n",
    "    ax.grid(False)\n",
    "    ax.set_xlabel('Re(A)', loc='right')\n",
    "    ax.set_ylabel('Im(A)', loc='top')\n",
    "\n",
    "A = 0.5 + 1j\n",
    "\n",
    "fig, ax = plt.subplots()\n",
    "\n",
    "ax.set_title(f\"A in the complex plane\")\n",
    "ax.quiver(0,0,np.real(A),np.imag(A),angles='xy', scale_units='xy', scale=1, color='k', label='A')\n",
    "ax.quiver(0,0,np.real(A),0,angles='xy', scale_units='xy', scale=1, color='r', label='Re(A)')\n",
    "ax.quiver(0,0,0,np.imag(A),angles='xy', scale_units='xy', scale=1, color='b', label='Im(A)')\n",
    "\n",
    "ax.plot([0, np.real(A)], [np.imag(A), np.imag(A)], color='k', linestyle=':')\n",
    "ax.plot([np.real(A), np.real(A)], [0, np.imag(A)], color='k', linestyle=':')\n",
    "format_axis(ax)\n",
    "ax.legend()\n"
   ]
  },
  {
   "cell_type": "code",
   "execution_count": 114,
   "id": "79cc6eb7-00e0-4b0e-aba1-3310385ec33d",
   "metadata": {},
   "outputs": [
    {
     "data": {
      "application/vnd.jupyter.widget-view+json": {
       "model_id": "51b891fa801543518a8e94e2931071e4",
       "version_major": 2,
       "version_minor": 0
      },
      "text/plain": [
       "interactive(children=(FloatSlider(value=0.2, description='a', max=1.0, min=-1.0, step=0.05), FloatSlider(value…"
      ]
     },
     "metadata": {},
     "output_type": "display_data"
    }
   ],
   "source": [
    "def rotate(a, b):\n",
    "    A = a + 1j*b\n",
    "    \n",
    "    fig, ax = plt.subplots()\n",
    "\n",
    "    ax.set_title(f\"A in the complex plane\")    \n",
    "    ax.quiver(0,0,np.real(A),np.imag(A),angles='xy', scale_units='xy', scale=1, color='k', label='A')\n",
    "    ax.quiver(0,0,np.real(A),0,angles='xy', scale_units='xy', scale=1, color='r', label='Re(A)')\n",
    "    ax.quiver(0,0,0,np.imag(A),angles='xy', scale_units='xy', scale=1, color='b', label='Im(A)')\n",
    "    ax.plot([0, np.real(A)], [np.imag(A), np.imag(A)], color='k', linestyle=':')\n",
    "    ax.plot([np.real(A), np.real(A)], [0, np.imag(A)], color='k', linestyle=':')\n",
    "    ax.legend()\n",
    "    format_axis(ax)\n",
    "\n",
    "    \n",
    "    plt.show()\n",
    "    \n",
    "interact(rotate, a=FloatSlider(min=-1, max=1, step=0.05, value=0.2, description='a'),\n",
    "        b=FloatSlider(min=-1, max=1, step=0.05, value=0.5, description='b'));"
   ]
  },
  {
   "cell_type": "markdown",
   "id": "a72d0304-b723-40bb-9115-af21a0238ead",
   "metadata": {},
   "source": [
    "It's straightforward to see from the above that the real part $a$ (red arrow) is the projection of the vector A onto the x axis.\n",
    "\n",
    "We have a few right-angled triangles here so we can use some basic trig to work out how each length is related. \n",
    "\n",
    "The length of the black arrow representing our complex number $\\vec{A}$ can be obtained by Pythagoras' theorem:\n",
    "\n",
    "$\\|\\vec{A}\\|^2=a^2+b^2$\n",
    "\n",
    "The length of the red arrow, the real part $a$, will be $\\|A\\|\\cos\\theta$, where $\\theta$ is the angle between the black arrow and the red arrow. Similarly, the blue arrow's length $b$ should be $\\|A\\|\\sin\\theta$.\n",
    "\n",
    "The angle $\\theta$ can be found from $a$ and $b$, because $\\frac{b}{a}=\\frac{\\|A\\|\\sin\\theta}{\\|A\\|\\cos\\theta}=\\tan\\theta$, so $\\theta=\\tan^{-1}\\left(\\frac{b}{a}\\right)$\n",
    "\n",
    "Let's fix the length of $\\vec{A}$ to 1, so $\\|\\vec{A}\\|=1$. Now $a=\\cos\\theta$ and $b=\\sin\\theta$\n",
    "\n",
    "In vector notation this is:\n",
    "\n",
    "$\\vec{A} = \\begin{pmatrix} \\cos\\theta & \\sin\\theta \\end{pmatrix}$\n",
    "\n",
    "If we go back and write $A$ as a complex number the usual way, we have:\n",
    "\n",
    "$A=\\cos\\theta + i\\sin\\theta$\n",
    "\n",
    "This should look familiar. We have defined a circle, the length of A is always the same so it will describe points at equal distance from the origin. What happens to the arrow $\\vec{A}$ as we change $\\theta$? "
   ]
  },
  {
   "cell_type": "code",
   "execution_count": 115,
   "id": "8bbc5cf1-0a66-44a5-8eff-b65a85d9a37c",
   "metadata": {},
   "outputs": [
    {
     "data": {
      "application/vnd.jupyter.widget-view+json": {
       "model_id": "5dfacae29859418983b33e3f9cce4127",
       "version_major": 2,
       "version_minor": 0
      },
      "text/plain": [
       "interactive(children=(FloatSlider(value=0.0, description='Angle \\theta (°)', max=360.0, step=1.0), Output()), …"
      ]
     },
     "metadata": {},
     "output_type": "display_data"
    }
   ],
   "source": [
    "\n",
    "\n",
    "def rotate(ang):\n",
    "    A = np.exp(1j*ang/180*np.pi)\n",
    "    \n",
    "    fig, ax = plt.subplots()\n",
    "\n",
    "    ax.set_title(f\"A in the complex plane\")\n",
    "    ax.quiver(0,0,np.real(A),np.imag(A),angles='xy', scale_units='xy', scale=1, color='k', label='A')\n",
    "    ax.quiver(0,0,np.real(A),0,angles='xy', scale_units='xy', scale=1, color='r', label='Re(A)')\n",
    "    ax.quiver(0,0,0,np.imag(A),angles='xy', scale_units='xy', scale=1, color='b', label='Im(A)')\n",
    "    ax.plot([0, np.real(A)], [np.imag(A), np.imag(A)], color='k', linestyle=':')\n",
    "    ax.plot([np.real(A), np.real(A)], [0, np.imag(A)], color='k', linestyle=':')\n",
    "    theta = np.linspace(0,ang/180*np.pi, 40)\n",
    "    ax.plot(np.cos(theta), np.sin(theta), 'k', linewidth=0.5)\n",
    "    ax.legend()\n",
    "    format_axis(ax, lim=1.5)\n",
    "    plt.show()\n",
    "    \n",
    "interact(rotate, ang=FloatSlider(min=0, max=360, step=1, value=0, description='Angle \\theta (°)'));"
   ]
  },
  {
   "cell_type": "markdown",
   "id": "988e1437-b987-4366-98d5-c43c865306c2",
   "metadata": {},
   "source": [
    "It's the unbelievable Euler's formula relates a complex exponential to $A$ with unit magnitude:\n",
    "\n",
    "$e^{i \\theta} = \\cos(\\theta) + i \\sin(\\theta)$\n",
    "\n",
    "If we change $\\theta$ here we describe a circle as above. Now we can represent $A$ in perhaps its most useful form for us, as a combination of length and angle but using a complex exponential: \n",
    "\n",
    "$A=\\|A\\|e^{i\\theta}$\n",
    "\n",
    "When dealing with sound waves, typically we use the real part to track the physical quantity of interest (e.g. pressure or displacement). The phase angle $\\theta$ will vary with time, frequency and position in space. This notation will make it very easy to add and multiply signals together and obtain transfer functions in the frequency domain. Using exponentials will turn multiplication and division into addition and subtraction of phase angles respectively - we'll see how this works now."
   ]
  },
  {
   "cell_type": "markdown",
   "id": "cab04519-f541-4f8c-8c7b-1f087f4805b9",
   "metadata": {},
   "source": [
    "## Summing complex numbers as translation\n",
    "\n",
    "When we add two signals represented as complex numbers, we are essentially doing vector addition. \n",
    "When adding $A$ and $B$, the x components (real parts) are added together, and the y components (imaginary parts) are added together, resulting in a new complex number $C=A+B$:\n",
    "\n",
    "$A=a+ib$\n",
    "\n",
    "$B=a'+ib'$\n",
    "\n",
    "$C=(a+a')+i(b+b')$\n",
    "\n",
    "\n",
    "If we think of $A$ as a point with coordinates $(a,b)$, then adding $\\vec{B}$ to $A$ is equivalent to moving (or translating) $A$ along the path given by $\\vec{B}$. The same is true if we think of $B$ as the starting point, to which we add $\\vec{A}$. \n",
    "\n",
    "Try changing the angles of each complex number below and see their sum (in black)."
   ]
  },
  {
   "cell_type": "code",
   "execution_count": 166,
   "id": "753031e7-8fe0-4e04-8b55-2ef33ec0b570",
   "metadata": {},
   "outputs": [
    {
     "data": {
      "application/vnd.jupyter.widget-view+json": {
       "model_id": "f73713070eb44d288061cf046a3319b1",
       "version_major": 2,
       "version_minor": 0
      },
      "text/plain": [
       "interactive(children=(FloatSlider(value=0.0, description='Angle A (°)', max=360.0, step=1.0), FloatSlider(valu…"
      ]
     },
     "metadata": {},
     "output_type": "display_data"
    }
   ],
   "source": [
    "\n",
    "def rotate(anga, angb):\n",
    "    a = np.exp(1j*anga/180*np.pi)\n",
    "    b = np.exp(1j*angb/180*np.pi)\n",
    "    c = a+b\n",
    "    \n",
    "    fig, ax = plt.subplots()\n",
    "    ax.set_title(f\"Complex\")\n",
    "    \n",
    "    ax.quiver(0,0,np.real(a),np.imag(a),angles='xy', scale_units='xy', scale=1, color='r', label='A')\n",
    "    ax.quiver(np.real(a),np.imag(a),np.real(b),np.imag(b),angles='xy', scale_units='xy', scale=1, color='b', alpha=0.1)\n",
    "    \n",
    "    ax.quiver(0,0,np.real(b),np.imag(b),angles='xy', scale_units='xy', scale=1, color='b', label='B')\n",
    "    ax.quiver(np.real(b),np.imag(b),np.real(a),np.imag(a),angles='xy', scale_units='xy', scale=1, color='r', alpha=0.1)\n",
    "    \n",
    "    ax.quiver(0,0,np.real(c),np.imag(c),angles='xy', scale_units='xy', scale=1, color='k', label='A+B')\n",
    "    ax.legend()\n",
    "    format_axis(ax, lim=2)\n",
    "    \n",
    "    \n",
    "    plt.show()\n",
    "    \n",
    "interact(rotate, anga=FloatSlider(min=0, max=360, step=1, value=0, description='Angle A (°)'),\n",
    "        angb=FloatSlider(min=0, max=360, step=1, value=180, description='Angle B (°)'));"
   ]
  },
  {
   "cell_type": "markdown",
   "id": "c9e4f080-6134-4072-8ea4-7bad71828306",
   "metadata": {},
   "source": [
    "A lot can be gleaned from this plot.\n",
    "\n",
    "You will notice that $A+B$ is sometimes zero (or the null vector (0,0) of zero length). If we think of translation, getting zero out is equivalent to moving the point $A$ back to the origin. The easiest way to get to the origin from $A$ is to follow a line pointing straight to the origin. This would be a vector $\\vec{B}$ with the same length as $\\vec{A}$ but in the opposite direction: \n",
    "\n",
    "$A=a+ib$\n",
    "\n",
    "$B=-a-ib$ \n",
    "\n",
    "so that $A+B=0 + 0i$\n",
    "\n",
    "While it's obvious what the result would be when writing out explicitly real and imaginary parts, it might not seem so clear in polar form with exponentials. \n",
    "\n",
    "If $A=e^{i\\theta}$, the angle of $B$ required to point in the opposite direction would be $\\theta+\\pi$ so that $B=e^{i(\\theta+\\pi)}$. This can be rewritten as $B = e^{i\\theta}\\cdot e^{i\\pi}=-e^{i\\theta}$ so that $B=-A$ and of course you get zero! Note that by multiplying $A$ with $e^{i\\pi}$ (which is the same as multiplying by $-1$) we have produced a vector in the opposite direction, or equivalently rotated $A$ by 180 degrees or $\\pi$ radians.\n",
    "\n",
    "\n",
    "On the other hand, the sum of $A$ and $B$ is at its maximum length if they both point in the same direction or have the same angle $\\theta$.\n",
    "\n",
    "By playing with the angles above we can also verify that the magnitude of the sum of $A$ and $B$ is always less than or equal to the sum of their magnitudes which is an important inequality:\n",
    "\n",
    "$|A+B|\\leq |A| + |B|$"
   ]
  },
  {
   "cell_type": "markdown",
   "id": "ebb7b55f-dd46-4073-9872-5ea6d34db373",
   "metadata": {},
   "source": [
    "# Multiplication as rotation\n",
    "\n",
    "We've seen that multiplication by $e^{i\\pi}$ seems to rotate a complex number by 180 degrees. Complex multiplication can be interpreted as scaling and rotating a complex number about the centre of the complex plane. It's not at all obvious when trying to multiply out real and imaginary parts directly, as such:\n",
    "\n",
    "$A=a+ib$\n",
    "\n",
    "$B=a'+ib'$\n",
    "\n",
    "$C=A\\cdot B=(a+ib)(a'+ib')=(aa'-bb')+i(ab'+ba')$\n",
    "\n",
    "If instead we use the polar form things are much clearer:\n",
    "\n",
    "$A=|A| e^{i\\theta}$\n",
    "\n",
    "$B=|B| e^{i\\phi}$\n",
    "\n",
    "$C=|C|e^{i\\gamma}=A\\cdot B=|A| e^{i\\theta}\\cdot |B| e^{i\\phi}=|A||B| e^{i(\\theta+\\phi)}$\n",
    "\n",
    "Our new complex number $C$ has magnitude $|C|=|A| |B|$ and angle $\\gamma=\\theta+\\phi$ and it's immediately obvious that it is scaling and rotating!\n",
    "\n",
    "Let's have a go in code, we'll fix the magnitudes of $A$ and $B$ to $=1$ so we only look at rotation."
   ]
  },
  {
   "cell_type": "code",
   "execution_count": 167,
   "id": "46462cec-3045-4f11-aa69-a38b295a9486",
   "metadata": {},
   "outputs": [
    {
     "data": {
      "application/vnd.jupyter.widget-view+json": {
       "model_id": "85377bae41b44bc498760c17bd76a2e8",
       "version_major": 2,
       "version_minor": 0
      },
      "text/plain": [
       "interactive(children=(FloatSlider(value=15.0, description='Angle A (°)', max=360.0, step=1.0), FloatSlider(val…"
      ]
     },
     "metadata": {},
     "output_type": "display_data"
    }
   ],
   "source": [
    "angle_range = np.linspace(0,1,30)\n",
    "\n",
    "def rotate(anga, angb):\n",
    "    a = np.exp(1j*anga/180*np.pi)\n",
    "    b = np.exp(1j*angb/180*np.pi)\n",
    "    c = a*b\n",
    "    \n",
    "    fig, ax = plt.subplots()\n",
    "    ax.set_xlim(-2.1, 2.1)\n",
    "    ax.set_ylim(-2.1, 2.1)\n",
    "    ax.set_aspect('equal')\n",
    "    ax.grid(True)\n",
    "    ax.set_title(f\"Complex\")\n",
    "    \n",
    "    ax.quiver(0,0,np.real(a),np.imag(a),angles='xy', scale_units='xy', scale=1, color='r', label='A')\n",
    "    \n",
    "    ax.quiver(0,0,np.real(b),np.imag(b),angles='xy', scale_units='xy', scale=1, color='b', label='B')\n",
    "    \n",
    "    ax.quiver(0,0,np.real(c),np.imag(c),angles='xy', scale_units='xy', scale=1, color='k', label=r'A$\\cdot$B')\n",
    "    \n",
    "    # draw arc\n",
    "    \n",
    "    theta = anga/180*np.pi*angle_range\n",
    "    phi = angb/180*np.pi*angle_range\n",
    "        \n",
    "    ax.plot(0.5*np.cos(theta), 0.5*np.sin(theta), 'r')\n",
    "    ax.plot(0.25*np.cos(phi), 0.25*np.sin(phi), 'b')\n",
    "    ax.plot(np.cos(theta+phi), np.sin(theta+phi), 'k')\n",
    "    \n",
    "    \n",
    "    ax.legend()\n",
    "    format_axis(ax)\n",
    "    \n",
    "    plt.show()\n",
    "    \n",
    "interact(rotate, anga=FloatSlider(min=0, max=360, step=1, value=15, description='Angle A (°)'),\n",
    "        angb=FloatSlider(min=0, max=360, step=1, value=30, description='Angle B (°)'));"
   ]
  },
  {
   "cell_type": "markdown",
   "id": "dbc21255-bfd5-4984-b154-6636e52a9978",
   "metadata": {},
   "source": [
    "Now to acoustics. For a plane wave travelling along $x$, of amplitude $A$, and angular frequency $\\omega$, at time $t$, acoustic pressure is given by:\n",
    "\n",
    "$p(x,t) = A e^{i (\\omega t -kx)}$\n",
    "\n",
    "Let's not think about the physical aspects but just focus on the formula.\n",
    "The phase angle of this complex quantity (assuming $A$ is real) is $\\theta=\\omega t-kx$.\n",
    "If we look at a fixed position like $x=0$, then $\\theta=\\omega t$ and phase angle is varying only with time (since frequency is given). We can easily draw the arrow $\\vec{p}$ if we know $\\omega$ and $t$.\n",
    "\n"
   ]
  },
  {
   "cell_type": "code",
   "execution_count": 168,
   "id": "ee51a90e-0393-438c-9bab-aabe99ff1887",
   "metadata": {},
   "outputs": [
    {
     "data": {
      "application/vnd.jupyter.widget-view+json": {
       "model_id": "47337237857f4ceb8b325a7c87143e8e",
       "version_major": 2,
       "version_minor": 0
      },
      "text/plain": [
       "interactive(children=(FloatSlider(value=0.0, description='Time', max=1.0, step=0.05), FloatSlider(value=3.1415…"
      ]
     },
     "metadata": {},
     "output_type": "display_data"
    }
   ],
   "source": [
    "def rotate(time, freq):\n",
    "    t = np.linspace(0, time, 80)\n",
    "    \n",
    "    p = np.exp(1j*2*np.pi*freq*t)\n",
    "    fig, (ax1,ax2) = plt.subplots(ncols=2, sharey='row')\n",
    "\n",
    "    \n",
    "    ax1.quiver(0,0,np.real(p[-1]),np.imag(p[-1]),angles='xy', scale_units='xy', scale=1, color='k', label='A')\n",
    "    ax1.plot([0, np.real(p[-1])], [np.imag(p[-1]), np.imag(p[-1])], color='k', linestyle=':')\n",
    "    \n",
    "    ax2.plot(t, np.real(p), 'k')\n",
    "    ax2.plot(time, np.real(p[-1]), 'ko')\n",
    "    format_axis(ax1)\n",
    "    format_axis(ax2)\n",
    "    ax1.plot()\n",
    "    \n",
    "    ax2.set_aspect('auto')\n",
    "    \n",
    "    ax2.set_xlim(0,1.1)\n",
    "    \n",
    "    ax2.spines['left'].set_position('zero')\n",
    "    \n",
    "    \n",
    "    ax1.set_ylabel('Im(p)', loc='top')\n",
    "    ax1.set_xlabel('Re(p)', loc='right')\n",
    "    \n",
    "    ax2.set_ylabel('Im(p)', loc='top')\n",
    "    ax2.set_xlabel('Time', loc='right')\n",
    "    \n",
    "    plt.show()\n",
    "\n",
    "interact(rotate, time=FloatSlider(min=0, max=1, step=0.05, value=0, description='Time'),\n",
    "                 freq=FloatSlider(min=0, max=4, step=1, value=np.pi, description='Frequency'));"
   ]
  },
  {
   "cell_type": "markdown",
   "id": "ee6b219d-bb42-4b4a-b4ca-7f1e2aa308ce",
   "metadata": {},
   "source": [
    "It does not matter too much if $A$ is itself complex. If it is, $A$ is a vector with a fixed direction and length. This vector is multiplied by the complex number $e^{i\\theta}$ which is a rotation by $\\theta$ around the origin, preserving magnitude.\n",
    "\n",
    "Euler's equation in acoustics relates the gradient of pressure to particle velocity. \n",
    "\n",
    "$\\nabla p = \\frac{-i\\omega}{\\rho}\\cdot v$\n",
    "\n",
    "For our plane wave, the gradient of pressure (in the $x$ direction) is:\n",
    "\n",
    "$\\nabla p = \\frac{\\partial p}{\\partial x}= i k e^{i\\omega t}$\n",
    "\n",
    "Substituting into Euler's equation gives us\n",
    "\n",
    "$p=\\rho c \\cdot v$\n",
    "\n",
    "Pressure and velocity are related by a factor (the *characteristic impedance* $z=\\rho c$) which is a property of the medium (like air or some porous absorber) and can be complex. Often when modelling sound propagation in air, $\\rho$ and $c$ are purely real (the characteristic impedance of air is typically in the order of 400 Rayls).\n",
    "\n",
    "If this factor has an imaginary component, it implies a rotation, meaning pressure and velocity are not pointing in the same direction (and so are out of phase to some degree). This typically represents some form of damping within a medium."
   ]
  },
  {
   "cell_type": "markdown",
   "id": "ffe2f8a4-df84-450c-898d-1671d3a178ac",
   "metadata": {},
   "source": [
    "Multiplying complex numbers directly this way is nothing like the dot product for vectors. We expect the dot product of two vectors to tell us how well they are aligned: if they are at right angles the output should be zero, while it should be greatest when they are facing the same (or opposite) direction. The simple product of two complex numbers doesn't give us the angle between them, but their sum.\n",
    "\n",
    "If we want the angle between two complex numbers, one way is to use division. \n",
    "\n",
    "$\\frac{A}{B}=\\frac{|A|}{|B|}\\frac{e^{i\\theta}}{e^{i\\phi}} = \\frac{|A|}{|B|} e^{i(\\theta-\\phi)}$\n",
    "\n",
    "This will result in a complex number having as angle the difference between the two, but its magnitude is the ratio of magnitudes $|A|$ and $|B|$.\n",
    "\n",
    "The dot product for complex numbers makes use of complex conjugation.\n",
    "\n",
    "The complex conjugate of $A$ is usually denoted $\\bar{A}$ and is obtained by reversing its imaginary part:\n",
    "\n",
    "\n",
    "$\\bar{A}=a-ib$\n",
    "\n",
    "Using the polar form we can actually see the geometry more clearly:\n",
    "\n",
    "$\\bar{A} = |A|\\cos\\theta - i|A|\\sin\\theta = |A|\\cos(-\\theta) + i |A|\\sin(-\\theta)$\n",
    "\n",
    "The angle of $\\bar{A}$ is $-\\theta$. This is the same as reflecting the vector $\\vec{A}$ about the x axis. Using complex exponentials:\n",
    "\n",
    "$\\bar{A}=|A|e^{-i\\theta}$\n",
    "\n",
    "Now we can easily see that the product of $A$ with its conjugate $\\bar{A}$ will give us $|A|^2$, which is purely real.\n",
    "\n",
    "$A\\bar{A}=|A|^2e^{i(\\theta-\\theta)}=|A|^2$\n",
    "\n",
    "When plotting these it's easy to see how $\\cos \\theta$ and $\\sin \\theta$ can be obtained by combining $e^{i\\theta}$ and its conjugate $e^{-i\\theta}$"
   ]
  },
  {
   "cell_type": "code",
   "execution_count": null,
   "id": "fa5cd98f-d3bf-4be9-8c19-f5bfa0fd0b24",
   "metadata": {},
   "outputs": [],
   "source": []
  }
 ],
 "metadata": {
  "kernelspec": {
   "display_name": "Python 3 (ipykernel)",
   "language": "python",
   "name": "python3"
  },
  "language_info": {
   "codemirror_mode": {
    "name": "ipython",
    "version": 3
   },
   "file_extension": ".py",
   "mimetype": "text/x-python",
   "name": "python",
   "nbconvert_exporter": "python",
   "pygments_lexer": "ipython3",
   "version": "3.12.3"
  }
 },
 "nbformat": 4,
 "nbformat_minor": 5
}
