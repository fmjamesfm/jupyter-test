{
 "cells": [
  {
   "cell_type": "markdown",
   "id": "e41dcea3-1ae5-455b-bdd0-0473cb259ea5",
   "metadata": {},
   "source": [
    "# Chapters\n",
    "\n",
    "1. [Complex numbers, a geometrical view](Complex.ipynb)\n",
    "2. [Fourier series and transforms](Fourier.ipynb)\n",
    "3. [Waves and the wave equation](Waves.ipynb)\n"
   ]
  }
 ],
 "metadata": {
  "kernelspec": {
   "display_name": "Python 3 (ipykernel)",
   "language": "python",
   "name": "python3"
  },
  "language_info": {
   "codemirror_mode": {
    "name": "ipython",
    "version": 3
   },
   "file_extension": ".py",
   "mimetype": "text/x-python",
   "name": "python",
   "nbconvert_exporter": "python",
   "pygments_lexer": "ipython3",
   "version": "3.12.3"
  }
 },
 "nbformat": 4,
 "nbformat_minor": 5
}
